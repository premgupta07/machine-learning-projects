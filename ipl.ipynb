{
 "cells": [
  {
   "cell_type": "markdown",
   "metadata": {},
   "source": [
    "# THIS PROJECT HAS BEEN INSPIRED BY WASP(WINNING AND SCORE PREDICTOR) WHICH IS USED TO PREDICT THE SCORES AND POSSIBLE RESULTS OF LIMITED OVERS MATCH."
   ]
  },
  {
   "cell_type": "markdown",
   "metadata": {},
   "source": [
    "Tasks:                                                \n",
    "   \n",
    "    1.Loading the data.\n",
    "    2.Preparing the data.\n",
    "    3.Selecting the best model\n",
    "    4.Apply Train and test split\n",
    "    5.Hyper-parameter tuning.\n",
    "    6.Predicting and accuracy measure"
   ]
  },
  {
   "cell_type": "code",
   "execution_count": 1,
   "metadata": {},
   "outputs": [],
   "source": [
    "import numpy as np\n",
    "import pandas as pd\n",
    "import matplotlib.pyplot as plt\n",
    "import seaborn as sns\n",
    "%matplotlib inline\n",
    "pd.options.display.max_seq_items = 2000"
   ]
  },
  {
   "cell_type": "code",
   "execution_count": 2,
   "metadata": {},
   "outputs": [
    {
     "data": {
      "text/html": [
       "<div>\n",
       "<style scoped>\n",
       "    .dataframe tbody tr th:only-of-type {\n",
       "        vertical-align: middle;\n",
       "    }\n",
       "\n",
       "    .dataframe tbody tr th {\n",
       "        vertical-align: top;\n",
       "    }\n",
       "\n",
       "    .dataframe thead th {\n",
       "        text-align: right;\n",
       "    }\n",
       "</style>\n",
       "<table border=\"1\" class=\"dataframe\">\n",
       "  <thead>\n",
       "    <tr style=\"text-align: right;\">\n",
       "      <th></th>\n",
       "      <th>mid</th>\n",
       "      <th>date</th>\n",
       "      <th>venue</th>\n",
       "      <th>bat_team</th>\n",
       "      <th>bowl_team</th>\n",
       "      <th>batsman</th>\n",
       "      <th>bowler</th>\n",
       "      <th>runs</th>\n",
       "      <th>wickets</th>\n",
       "      <th>overs</th>\n",
       "      <th>runs_last_5</th>\n",
       "      <th>wickets_last_5</th>\n",
       "      <th>striker</th>\n",
       "      <th>non-striker</th>\n",
       "      <th>total</th>\n",
       "    </tr>\n",
       "  </thead>\n",
       "  <tbody>\n",
       "    <tr>\n",
       "      <th>0</th>\n",
       "      <td>1</td>\n",
       "      <td>2006-06-13</td>\n",
       "      <td>Civil Service Cricket Club, Stormont</td>\n",
       "      <td>England</td>\n",
       "      <td>Ireland</td>\n",
       "      <td>ME Trescothick</td>\n",
       "      <td>DT Johnston</td>\n",
       "      <td>0</td>\n",
       "      <td>0</td>\n",
       "      <td>0.1</td>\n",
       "      <td>0</td>\n",
       "      <td>0</td>\n",
       "      <td>0</td>\n",
       "      <td>0</td>\n",
       "      <td>301</td>\n",
       "    </tr>\n",
       "    <tr>\n",
       "      <th>1</th>\n",
       "      <td>1</td>\n",
       "      <td>2006-06-13</td>\n",
       "      <td>Civil Service Cricket Club, Stormont</td>\n",
       "      <td>England</td>\n",
       "      <td>Ireland</td>\n",
       "      <td>ME Trescothick</td>\n",
       "      <td>DT Johnston</td>\n",
       "      <td>0</td>\n",
       "      <td>0</td>\n",
       "      <td>0.2</td>\n",
       "      <td>0</td>\n",
       "      <td>0</td>\n",
       "      <td>0</td>\n",
       "      <td>0</td>\n",
       "      <td>301</td>\n",
       "    </tr>\n",
       "    <tr>\n",
       "      <th>2</th>\n",
       "      <td>1</td>\n",
       "      <td>2006-06-13</td>\n",
       "      <td>Civil Service Cricket Club, Stormont</td>\n",
       "      <td>England</td>\n",
       "      <td>Ireland</td>\n",
       "      <td>ME Trescothick</td>\n",
       "      <td>DT Johnston</td>\n",
       "      <td>4</td>\n",
       "      <td>0</td>\n",
       "      <td>0.3</td>\n",
       "      <td>4</td>\n",
       "      <td>0</td>\n",
       "      <td>0</td>\n",
       "      <td>0</td>\n",
       "      <td>301</td>\n",
       "    </tr>\n",
       "    <tr>\n",
       "      <th>3</th>\n",
       "      <td>1</td>\n",
       "      <td>2006-06-13</td>\n",
       "      <td>Civil Service Cricket Club, Stormont</td>\n",
       "      <td>England</td>\n",
       "      <td>Ireland</td>\n",
       "      <td>ME Trescothick</td>\n",
       "      <td>DT Johnston</td>\n",
       "      <td>6</td>\n",
       "      <td>0</td>\n",
       "      <td>0.4</td>\n",
       "      <td>6</td>\n",
       "      <td>0</td>\n",
       "      <td>0</td>\n",
       "      <td>0</td>\n",
       "      <td>301</td>\n",
       "    </tr>\n",
       "    <tr>\n",
       "      <th>4</th>\n",
       "      <td>1</td>\n",
       "      <td>2006-06-13</td>\n",
       "      <td>Civil Service Cricket Club, Stormont</td>\n",
       "      <td>England</td>\n",
       "      <td>Ireland</td>\n",
       "      <td>ME Trescothick</td>\n",
       "      <td>DT Johnston</td>\n",
       "      <td>6</td>\n",
       "      <td>0</td>\n",
       "      <td>0.5</td>\n",
       "      <td>6</td>\n",
       "      <td>0</td>\n",
       "      <td>0</td>\n",
       "      <td>0</td>\n",
       "      <td>301</td>\n",
       "    </tr>\n",
       "    <tr>\n",
       "      <th>5</th>\n",
       "      <td>1</td>\n",
       "      <td>2006-06-13</td>\n",
       "      <td>Civil Service Cricket Club, Stormont</td>\n",
       "      <td>England</td>\n",
       "      <td>Ireland</td>\n",
       "      <td>ME Trescothick</td>\n",
       "      <td>DT Johnston</td>\n",
       "      <td>6</td>\n",
       "      <td>0</td>\n",
       "      <td>0.6</td>\n",
       "      <td>6</td>\n",
       "      <td>0</td>\n",
       "      <td>0</td>\n",
       "      <td>0</td>\n",
       "      <td>301</td>\n",
       "    </tr>\n",
       "    <tr>\n",
       "      <th>6</th>\n",
       "      <td>1</td>\n",
       "      <td>2006-06-13</td>\n",
       "      <td>Civil Service Cricket Club, Stormont</td>\n",
       "      <td>England</td>\n",
       "      <td>Ireland</td>\n",
       "      <td>EC Joyce</td>\n",
       "      <td>D Langford-Smith</td>\n",
       "      <td>6</td>\n",
       "      <td>0</td>\n",
       "      <td>1.1</td>\n",
       "      <td>6</td>\n",
       "      <td>0</td>\n",
       "      <td>0</td>\n",
       "      <td>0</td>\n",
       "      <td>301</td>\n",
       "    </tr>\n",
       "    <tr>\n",
       "      <th>7</th>\n",
       "      <td>1</td>\n",
       "      <td>2006-06-13</td>\n",
       "      <td>Civil Service Cricket Club, Stormont</td>\n",
       "      <td>England</td>\n",
       "      <td>Ireland</td>\n",
       "      <td>EC Joyce</td>\n",
       "      <td>D Langford-Smith</td>\n",
       "      <td>6</td>\n",
       "      <td>0</td>\n",
       "      <td>1.2</td>\n",
       "      <td>6</td>\n",
       "      <td>0</td>\n",
       "      <td>0</td>\n",
       "      <td>0</td>\n",
       "      <td>301</td>\n",
       "    </tr>\n",
       "    <tr>\n",
       "      <th>8</th>\n",
       "      <td>1</td>\n",
       "      <td>2006-06-13</td>\n",
       "      <td>Civil Service Cricket Club, Stormont</td>\n",
       "      <td>England</td>\n",
       "      <td>Ireland</td>\n",
       "      <td>EC Joyce</td>\n",
       "      <td>D Langford-Smith</td>\n",
       "      <td>6</td>\n",
       "      <td>0</td>\n",
       "      <td>1.3</td>\n",
       "      <td>6</td>\n",
       "      <td>0</td>\n",
       "      <td>0</td>\n",
       "      <td>0</td>\n",
       "      <td>301</td>\n",
       "    </tr>\n",
       "    <tr>\n",
       "      <th>9</th>\n",
       "      <td>1</td>\n",
       "      <td>2006-06-13</td>\n",
       "      <td>Civil Service Cricket Club, Stormont</td>\n",
       "      <td>England</td>\n",
       "      <td>Ireland</td>\n",
       "      <td>EC Joyce</td>\n",
       "      <td>D Langford-Smith</td>\n",
       "      <td>7</td>\n",
       "      <td>0</td>\n",
       "      <td>1.3</td>\n",
       "      <td>7</td>\n",
       "      <td>0</td>\n",
       "      <td>0</td>\n",
       "      <td>0</td>\n",
       "      <td>301</td>\n",
       "    </tr>\n",
       "  </tbody>\n",
       "</table>\n",
       "</div>"
      ],
      "text/plain": [
       "   mid        date                                 venue bat_team bowl_team  \\\n",
       "0    1  2006-06-13  Civil Service Cricket Club, Stormont  England   Ireland   \n",
       "1    1  2006-06-13  Civil Service Cricket Club, Stormont  England   Ireland   \n",
       "2    1  2006-06-13  Civil Service Cricket Club, Stormont  England   Ireland   \n",
       "3    1  2006-06-13  Civil Service Cricket Club, Stormont  England   Ireland   \n",
       "4    1  2006-06-13  Civil Service Cricket Club, Stormont  England   Ireland   \n",
       "5    1  2006-06-13  Civil Service Cricket Club, Stormont  England   Ireland   \n",
       "6    1  2006-06-13  Civil Service Cricket Club, Stormont  England   Ireland   \n",
       "7    1  2006-06-13  Civil Service Cricket Club, Stormont  England   Ireland   \n",
       "8    1  2006-06-13  Civil Service Cricket Club, Stormont  England   Ireland   \n",
       "9    1  2006-06-13  Civil Service Cricket Club, Stormont  England   Ireland   \n",
       "\n",
       "          batsman            bowler  runs  wickets  overs  runs_last_5  \\\n",
       "0  ME Trescothick       DT Johnston     0        0    0.1            0   \n",
       "1  ME Trescothick       DT Johnston     0        0    0.2            0   \n",
       "2  ME Trescothick       DT Johnston     4        0    0.3            4   \n",
       "3  ME Trescothick       DT Johnston     6        0    0.4            6   \n",
       "4  ME Trescothick       DT Johnston     6        0    0.5            6   \n",
       "5  ME Trescothick       DT Johnston     6        0    0.6            6   \n",
       "6        EC Joyce  D Langford-Smith     6        0    1.1            6   \n",
       "7        EC Joyce  D Langford-Smith     6        0    1.2            6   \n",
       "8        EC Joyce  D Langford-Smith     6        0    1.3            6   \n",
       "9        EC Joyce  D Langford-Smith     7        0    1.3            7   \n",
       "\n",
       "   wickets_last_5  striker  non-striker  total  \n",
       "0               0        0            0    301  \n",
       "1               0        0            0    301  \n",
       "2               0        0            0    301  \n",
       "3               0        0            0    301  \n",
       "4               0        0            0    301  \n",
       "5               0        0            0    301  \n",
       "6               0        0            0    301  \n",
       "7               0        0            0    301  \n",
       "8               0        0            0    301  \n",
       "9               0        0            0    301  "
      ]
     },
     "execution_count": 2,
     "metadata": {},
     "output_type": "execute_result"
    }
   ],
   "source": [
    "data = pd.read_csv('odi.csv')\n",
    "data.head(10)"
   ]
  },
  {
   "cell_type": "code",
   "execution_count": 3,
   "metadata": {},
   "outputs": [
    {
     "data": {
      "text/plain": [
       "(350899, 15)"
      ]
     },
     "execution_count": 3,
     "metadata": {},
     "output_type": "execute_result"
    }
   ],
   "source": [
    "data.shape"
   ]
  },
  {
   "cell_type": "code",
   "execution_count": 4,
   "metadata": {},
   "outputs": [
    {
     "name": "stdout",
     "output_type": "stream",
     "text": [
      "<class 'pandas.core.frame.DataFrame'>\n",
      "RangeIndex: 350899 entries, 0 to 350898\n",
      "Data columns (total 15 columns):\n",
      "mid               350899 non-null int64\n",
      "date              350899 non-null object\n",
      "venue             350899 non-null object\n",
      "bat_team          350899 non-null object\n",
      "bowl_team         350899 non-null object\n",
      "batsman           350899 non-null object\n",
      "bowler            350899 non-null object\n",
      "runs              350899 non-null int64\n",
      "wickets           350899 non-null int64\n",
      "overs             350899 non-null float64\n",
      "runs_last_5       350899 non-null int64\n",
      "wickets_last_5    350899 non-null int64\n",
      "striker           350899 non-null int64\n",
      "non-striker       350899 non-null int64\n",
      "total             350899 non-null int64\n",
      "dtypes: float64(1), int64(8), object(6)\n",
      "memory usage: 40.2+ MB\n"
     ]
    }
   ],
   "source": [
    "data.info()"
   ]
  },
  {
   "cell_type": "code",
   "execution_count": 5,
   "metadata": {},
   "outputs": [
    {
     "data": {
      "text/plain": [
       "mid               0\n",
       "date              0\n",
       "venue             0\n",
       "bat_team          0\n",
       "bowl_team         0\n",
       "batsman           0\n",
       "bowler            0\n",
       "runs              0\n",
       "wickets           0\n",
       "overs             0\n",
       "runs_last_5       0\n",
       "wickets_last_5    0\n",
       "striker           0\n",
       "non-striker       0\n",
       "total             0\n",
       "dtype: int64"
      ]
     },
     "execution_count": 5,
     "metadata": {},
     "output_type": "execute_result"
    }
   ],
   "source": [
    "data.isnull().sum()"
   ]
  },
  {
   "cell_type": "code",
   "execution_count": 6,
   "metadata": {},
   "outputs": [
    {
     "data": {
      "text/html": [
       "<div>\n",
       "<style scoped>\n",
       "    .dataframe tbody tr th:only-of-type {\n",
       "        vertical-align: middle;\n",
       "    }\n",
       "\n",
       "    .dataframe tbody tr th {\n",
       "        vertical-align: top;\n",
       "    }\n",
       "\n",
       "    .dataframe thead th {\n",
       "        text-align: right;\n",
       "    }\n",
       "</style>\n",
       "<table border=\"1\" class=\"dataframe\">\n",
       "  <thead>\n",
       "    <tr style=\"text-align: right;\">\n",
       "      <th></th>\n",
       "      <th>mid</th>\n",
       "      <th>runs</th>\n",
       "      <th>wickets</th>\n",
       "      <th>overs</th>\n",
       "      <th>runs_last_5</th>\n",
       "      <th>wickets_last_5</th>\n",
       "      <th>striker</th>\n",
       "      <th>non-striker</th>\n",
       "      <th>total</th>\n",
       "    </tr>\n",
       "  </thead>\n",
       "  <tbody>\n",
       "    <tr>\n",
       "      <th>count</th>\n",
       "      <td>350899.000000</td>\n",
       "      <td>350899.000000</td>\n",
       "      <td>350899.000000</td>\n",
       "      <td>350899.000000</td>\n",
       "      <td>350899.000000</td>\n",
       "      <td>350899.000000</td>\n",
       "      <td>350899.000000</td>\n",
       "      <td>350899.000000</td>\n",
       "      <td>350899.000000</td>\n",
       "    </tr>\n",
       "    <tr>\n",
       "      <th>mean</th>\n",
       "      <td>594.360426</td>\n",
       "      <td>114.801661</td>\n",
       "      <td>2.974970</td>\n",
       "      <td>24.052899</td>\n",
       "      <td>23.548303</td>\n",
       "      <td>0.669814</td>\n",
       "      <td>35.180129</td>\n",
       "      <td>12.427944</td>\n",
       "      <td>255.355387</td>\n",
       "    </tr>\n",
       "    <tr>\n",
       "      <th>std</th>\n",
       "      <td>343.605128</td>\n",
       "      <td>77.665959</td>\n",
       "      <td>2.298959</td>\n",
       "      <td>14.235439</td>\n",
       "      <td>11.042974</td>\n",
       "      <td>0.833895</td>\n",
       "      <td>28.115264</td>\n",
       "      <td>15.019181</td>\n",
       "      <td>62.354412</td>\n",
       "    </tr>\n",
       "    <tr>\n",
       "      <th>min</th>\n",
       "      <td>1.000000</td>\n",
       "      <td>0.000000</td>\n",
       "      <td>0.000000</td>\n",
       "      <td>0.000000</td>\n",
       "      <td>0.000000</td>\n",
       "      <td>0.000000</td>\n",
       "      <td>0.000000</td>\n",
       "      <td>0.000000</td>\n",
       "      <td>44.000000</td>\n",
       "    </tr>\n",
       "    <tr>\n",
       "      <th>25%</th>\n",
       "      <td>296.000000</td>\n",
       "      <td>51.000000</td>\n",
       "      <td>1.000000</td>\n",
       "      <td>11.600000</td>\n",
       "      <td>17.000000</td>\n",
       "      <td>0.000000</td>\n",
       "      <td>13.000000</td>\n",
       "      <td>2.000000</td>\n",
       "      <td>217.000000</td>\n",
       "    </tr>\n",
       "    <tr>\n",
       "      <th>50%</th>\n",
       "      <td>596.000000</td>\n",
       "      <td>105.000000</td>\n",
       "      <td>3.000000</td>\n",
       "      <td>23.600000</td>\n",
       "      <td>23.000000</td>\n",
       "      <td>0.000000</td>\n",
       "      <td>29.000000</td>\n",
       "      <td>7.000000</td>\n",
       "      <td>257.000000</td>\n",
       "    </tr>\n",
       "    <tr>\n",
       "      <th>75%</th>\n",
       "      <td>893.000000</td>\n",
       "      <td>168.000000</td>\n",
       "      <td>4.000000</td>\n",
       "      <td>36.200000</td>\n",
       "      <td>29.000000</td>\n",
       "      <td>1.000000</td>\n",
       "      <td>50.000000</td>\n",
       "      <td>18.000000</td>\n",
       "      <td>298.000000</td>\n",
       "    </tr>\n",
       "    <tr>\n",
       "      <th>max</th>\n",
       "      <td>1188.000000</td>\n",
       "      <td>444.000000</td>\n",
       "      <td>10.000000</td>\n",
       "      <td>49.600000</td>\n",
       "      <td>101.000000</td>\n",
       "      <td>7.000000</td>\n",
       "      <td>264.000000</td>\n",
       "      <td>149.000000</td>\n",
       "      <td>444.000000</td>\n",
       "    </tr>\n",
       "  </tbody>\n",
       "</table>\n",
       "</div>"
      ],
      "text/plain": [
       "                 mid           runs        wickets          overs  \\\n",
       "count  350899.000000  350899.000000  350899.000000  350899.000000   \n",
       "mean      594.360426     114.801661       2.974970      24.052899   \n",
       "std       343.605128      77.665959       2.298959      14.235439   \n",
       "min         1.000000       0.000000       0.000000       0.000000   \n",
       "25%       296.000000      51.000000       1.000000      11.600000   \n",
       "50%       596.000000     105.000000       3.000000      23.600000   \n",
       "75%       893.000000     168.000000       4.000000      36.200000   \n",
       "max      1188.000000     444.000000      10.000000      49.600000   \n",
       "\n",
       "         runs_last_5  wickets_last_5        striker    non-striker  \\\n",
       "count  350899.000000   350899.000000  350899.000000  350899.000000   \n",
       "mean       23.548303        0.669814      35.180129      12.427944   \n",
       "std        11.042974        0.833895      28.115264      15.019181   \n",
       "min         0.000000        0.000000       0.000000       0.000000   \n",
       "25%        17.000000        0.000000      13.000000       2.000000   \n",
       "50%        23.000000        0.000000      29.000000       7.000000   \n",
       "75%        29.000000        1.000000      50.000000      18.000000   \n",
       "max       101.000000        7.000000     264.000000     149.000000   \n",
       "\n",
       "               total  \n",
       "count  350899.000000  \n",
       "mean      255.355387  \n",
       "std        62.354412  \n",
       "min        44.000000  \n",
       "25%       217.000000  \n",
       "50%       257.000000  \n",
       "75%       298.000000  \n",
       "max       444.000000  "
      ]
     },
     "execution_count": 6,
     "metadata": {},
     "output_type": "execute_result"
    }
   ],
   "source": [
    "data.describe()"
   ]
  },
  {
   "cell_type": "code",
   "execution_count": 7,
   "metadata": {},
   "outputs": [
    {
     "data": {
      "image/png": "[encoded data removed]",
      "text/plain": [
       "<Figure size 1152x1152 with 2 Axes>"
      ]
     },
     "metadata": {
      "needs_background": "light"
     },
     "output_type": "display_data"
    }
   ],
   "source": [
    "plt.figure(figsize=(16,16))\n",
    "sns.heatmap(data[list(data.dtypes[data.dtypes!='object'].index)].corr(),annot=True)\n",
    "plt.show()"
   ]
  },
  {
   "cell_type": "code",
   "execution_count": 8,
   "metadata": {},
   "outputs": [],
   "source": [
    "#As we can conclude from the heatmap above, Features: [runs,wickets,overs,striker,non-striker] are suitable for prediction beacuse the other features are not having much effect in the result.\n",
    "X=data.iloc[:,[7,8,9,12,13]].values # Features: [runs,wickets,overs,striker,non-striker]\n",
    "y = data.iloc[:, 14].values #Label->total"
   ]
  },
  {
   "cell_type": "markdown",
   "metadata": {},
   "source": [
    "SPLITTING DATA INTO TRAINING AND TESTING SET"
   ]
  },
  {
   "cell_type": "code",
   "execution_count": 9,
   "metadata": {},
   "outputs": [],
   "source": [
    "from sklearn.model_selection import train_test_split\n",
    "X_train, X_test, y_train, y_test = train_test_split(X, y, test_size = 0.25, random_state = 0)"
   ]
  },
  {
   "cell_type": "code",
   "execution_count": 10,
   "metadata": {},
   "outputs": [
    {
     "data": {
      "text/plain": [
       "['mid',\n",
       " 'date',\n",
       " 'venue',\n",
       " 'bat_team',\n",
       " 'bowl_team',\n",
       " 'batsman',\n",
       " 'bowler',\n",
       " 'runs',\n",
       " 'wickets',\n",
       " 'overs',\n",
       " 'runs_last_5',\n",
       " 'wickets_last_5',\n",
       " 'striker',\n",
       " 'non-striker',\n",
       " 'total']"
      ]
     },
     "execution_count": 10,
     "metadata": {},
     "output_type": "execute_result"
    }
   ],
   "source": [
    "data.columns.tolist()"
   ]
  },
  {
   "cell_type": "markdown",
   "metadata": {},
   "source": [
    "FEATURE SCALING"
   ]
  },
  {
   "cell_type": "code",
   "execution_count": 11,
   "metadata": {},
   "outputs": [],
   "source": [
    "from sklearn.preprocessing import StandardScaler\n",
    "ss = StandardScaler()\n",
    "X_train = ss.fit_transform(X_train)\n",
    "X_test = ss.transform(X_test)"
   ]
  },
  {
   "cell_type": "markdown",
   "metadata": {},
   "source": [
    "<b>TRAINING THE DATASET</b>"
   ]
  },
  {
   "cell_type": "markdown",
   "metadata": {},
   "source": [
    "<i>LINEAR REGRESSION</i>"
   ]
  },
  {
   "cell_type": "code",
   "execution_count": 12,
   "metadata": {},
   "outputs": [
    {
     "data": {
      "text/plain": [
       "LinearRegression(copy_X=True, fit_intercept=True, n_jobs=None, normalize=False)"
      ]
     },
     "execution_count": 12,
     "metadata": {},
     "output_type": "execute_result"
    }
   ],
   "source": [
    "from sklearn.linear_model import LinearRegression\n",
    "lr = LinearRegression()\n",
    "lr.fit(X_train,y_train)"
   ]
  },
  {
   "cell_type": "markdown",
   "metadata": {},
   "source": [
    "<i>RANDOM FOREST REGRESSION</i>"
   ]
  },
  {
   "cell_type": "code",
   "execution_count": 13,
   "metadata": {},
   "outputs": [
    {
     "data": {
      "text/plain": [
       "RandomForestRegressor(bootstrap=True, criterion='mse', max_depth=None,\n",
       "                      max_features=None, max_leaf_nodes=None,\n",
       "                      min_impurity_decrease=0.0, min_impurity_split=None,\n",
       "                      min_samples_leaf=1, min_samples_split=2,\n",
       "                      min_weight_fraction_leaf=0.0, n_estimators=100,\n",
       "                      n_jobs=None, oob_score=False, random_state=None,\n",
       "                      verbose=0, warm_start=False)"
      ]
     },
     "execution_count": 13,
     "metadata": {},
     "output_type": "execute_result"
    }
   ],
   "source": [
    "from sklearn.ensemble import RandomForestRegressor\n",
    "rfr = RandomForestRegressor(n_estimators=100,max_features=None)\n",
    "rfr.fit(X_train,y_train)"
   ]
  },
  {
   "cell_type": "markdown",
   "metadata": {},
   "source": [
    "<b>TESTING THE DATASET</b>"
   ]
  },
  {
   "cell_type": "markdown",
   "metadata": {},
   "source": [
    "Accuracy can be defined as the correct approximation to the result. So if we consider a threshold then we can consider it to be correct prediction."
   ]
  },
  {
   "cell_type": "code",
   "execution_count": 14,
   "metadata": {},
   "outputs": [],
   "source": [
    "def custom_accuracy(a,b,thresold):\n",
    "    right = 0\n",
    "    left = len(b)\n",
    "    for i in range(0,left):\n",
    "        if(abs(b[i]-a[i]) <= thresold):\n",
    "            right += 1\n",
    "            \n",
    "    return ((right/left)*100)"
   ]
  },
  {
   "cell_type": "code",
   "execution_count": 15,
   "metadata": {},
   "outputs": [
    {
     "name": "stdout",
     "output_type": "stream",
     "text": [
      "R square value by lr: 52.737657811129445\n",
      "Custom accuracy by lr: 43.354801937874036\n",
      "R square value by rfr: 79.54011368611133\n",
      "Custom accuracy by rfr: 77.03847249928755\n"
     ]
    }
   ],
   "source": [
    "y_lrapprox = lr.predict(X_test)\n",
    "y_rfrapprox = rfr.predict(X_test)\n",
    "scorelr = lr.score(X_test,y_test)*100\n",
    "scorerfr = rfr.score(X_test,y_test)*100\n",
    "print(\"R square value by lr:\" , scorelr)\n",
    "print(\"Custom accuracy by lr:\" , custom_accuracy(y_test,y_lrapprox,20))\n",
    "print(\"R square value by rfr:\" , scorerfr)\n",
    "print(\"Custom accuracy by rfr:\" , custom_accuracy(y_test,y_rfrapprox,20))"
   ]
  },
  {
   "cell_type": "code",
   "execution_count": null,
   "metadata": {},
   "outputs": [],
   "source": []
  }
 ],
 "metadata": {
  "kernelspec": {
   "display_name": "Python 3",
   "language": "python",
   "name": "python3"
  },
  "language_info": {
   "codemirror_mode": {
    "name": "ipython",
    "version": 3
   },
   "file_extension": ".py",
   "mimetype": "text/x-python",
   "name": "python",
   "nbconvert_exporter": "python",
   "pygments_lexer": "ipython3",
   "version": "3.7.3"
  }
 },
 "nbformat": 4,
 "nbformat_minor": 2
}
